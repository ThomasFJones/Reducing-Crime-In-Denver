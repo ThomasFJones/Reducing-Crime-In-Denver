{
  "nbformat": 4,
  "nbformat_minor": 0,
  "metadata": {
    "colab": {
      "name": "Denver Assault Report Delay.ipynb",
      "provenance": [],
      "collapsed_sections": [],
      "include_colab_link": true
    },
    "kernelspec": {
      "name": "python3",
      "display_name": "Python 3"
    },
    "language_info": {
      "name": "python"
    }
  },
  "cells": [
    {
      "cell_type": "markdown",
      "metadata": {
        "id": "view-in-github",
        "colab_type": "text"
      },
      "source": [
        "<a href=\"https://colab.research.google.com/github/ThomasFJones/Reducing-Crime-In-Denver/blob/main/Denver_Assault_Report_Delay.ipynb\" target=\"_parent\"><img src=\"https://colab.research.google.com/assets/colab-badge.svg\" alt=\"Open In Colab\"/></a>"
      ]
    },
    {
      "cell_type": "markdown",
      "metadata": {
        "id": "TaLzhSa8O0Ml"
      },
      "source": [
        "# Prerequisites\n",
        "\n",
        "This section is just importing the required models and data for this analysis"
      ]
    },
    {
      "cell_type": "code",
      "metadata": {
        "colab": {
          "base_uri": "https://localhost:8080/"
        },
        "id": "SQ_WbDzEVNs4",
        "outputId": "9131d6df-5615-47da-8e79-83cde1996705"
      },
      "source": [
        "from google.colab import drive\n",
        "drive.mount('/content/gdrive')"
      ],
      "execution_count": null,
      "outputs": [
        {
          "output_type": "stream",
          "name": "stdout",
          "text": [
            "Mounted at /content/gdrive\n"
          ]
        }
      ]
    },
    {
      "cell_type": "markdown",
      "metadata": {
        "id": "DGFHrm_GoMzL"
      },
      "source": [
        "# Introduction\n",
        "\n",
        "For this project I will be utilizing the Denver Crime Data set accessible from Kaggle. The data set is of a good size, detailing over 500k incidents since 2017 and, unlike other crime data sets available on Kaggle, is regularly updated.\n",
        "\n",
        "I’m going to focus in this project on the crime of Assault. Assault is the most common violent crime and often a pre-cursor to even more serious crimes such as rape and homicide. It is therefore important to make sure these offenses are responded to promptly both to prevent their immediate escalation where possible and to make apprehension of the perpetrator more likely in those cases where the police arrive after the fact."
      ]
    },
    {
      "cell_type": "code",
      "metadata": {
        "id": "8hKDH3VJVo3u",
        "colab": {
          "base_uri": "https://localhost:8080/"
        },
        "outputId": "c0b16d06-ac8f-4c8e-eda8-ce316906b741"
      },
      "source": [
        "import pandas as pd\n",
        "import numpy as np\n",
        "import statsmodels.api as sm\n",
        "import statsmodels.formula.api as smf\n",
        "from scipy import stats\n",
        "import seaborn as sns\n",
        "import matplotlib.pyplot as plt\n",
        "import datetime as dt\n",
        "from datetime import datetime\n",
        "\n",
        "df = pd.read_csv('/content/gdrive/My Drive/Data/crime.csv')"
      ],
      "execution_count": null,
      "outputs": [
        {
          "output_type": "stream",
          "name": "stderr",
          "text": [
            "/usr/local/lib/python3.7/dist-packages/statsmodels/tools/_testing.py:19: FutureWarning: pandas.util.testing is deprecated. Use the functions in the public API at pandas.testing instead.\n",
            "  import pandas.util.testing as tm\n"
          ]
        }
      ]
    },
    {
      "cell_type": "markdown",
      "metadata": {
        "id": "ck78HgsdPKzo"
      },
      "source": [
        "# Data Cleaning\n",
        "In this section I narrow the data set to just those Offense Codes related to assault and remove some columns related to very specific geographic data (lat/long) that is not relevant to this analysis."
      ]
    },
    {
      "cell_type": "code",
      "metadata": {
        "id": "Li7cjOzEV06N"
      },
      "source": [
        "df_ = df.loc[df['OFFENSE_CODE'] <= 1315]\n",
        "assault = df_.loc[df['OFFENSE_CODE'] >= 1301]"
      ],
      "execution_count": null,
      "outputs": []
    },
    {
      "cell_type": "code",
      "metadata": {
        "colab": {
          "base_uri": "https://localhost:8080/"
        },
        "id": "n_6eUjrMW9Ia",
        "outputId": "daad07e1-cf41-4cc2-9438-71ea9ad75826"
      },
      "source": [
        "assault['OFFENSE_CODE'].sort_values().unique()"
      ],
      "execution_count": null,
      "outputs": [
        {
          "output_type": "execute_result",
          "data": {
            "text/plain": [
              "array([1310, 1311, 1313, 1314, 1315])"
            ]
          },
          "metadata": {},
          "execution_count": 4
        }
      ]
    },
    {
      "cell_type": "code",
      "metadata": {
        "colab": {
          "base_uri": "https://localhost:8080/"
        },
        "id": "Dza7yWyRYGTC",
        "outputId": "97bf9934-0129-43ec-9638-1e79f3b71b6b"
      },
      "source": [
        "assault['OFFENSE_TYPE_ID'].sort_values().unique()"
      ],
      "execution_count": null,
      "outputs": [
        {
          "output_type": "execute_result",
          "data": {
            "text/plain": [
              "array(['agg-aslt-police-weapon', 'aggravated-assault',\n",
              "       'aggravated-assault-dv', 'aslt-agg-police-gun', 'assault-dv',\n",
              "       'assault-police-simple', 'assault-simple',\n",
              "       'menacing-felony-w-weap', 'weapon-fire-into-occ-bldg',\n",
              "       'weapon-fire-into-occ-veh'], dtype=object)"
            ]
          },
          "metadata": {},
          "execution_count": 5
        }
      ]
    },
    {
      "cell_type": "code",
      "metadata": {
        "colab": {
          "base_uri": "https://localhost:8080/"
        },
        "id": "jSEdzucCYiPw",
        "outputId": "f84854c6-955b-47b2-c902-d2044cef6b16"
      },
      "source": [
        "assault['OFFENSE_CATEGORY_ID'].sort_values().unique()"
      ],
      "execution_count": null,
      "outputs": [
        {
          "output_type": "execute_result",
          "data": {
            "text/plain": [
              "array(['aggravated-assault', 'all-other-crimes',\n",
              "       'other-crimes-against-persons'], dtype=object)"
            ]
          },
          "metadata": {},
          "execution_count": 6
        }
      ]
    },
    {
      "cell_type": "code",
      "metadata": {
        "colab": {
          "base_uri": "https://localhost:8080/"
        },
        "id": "2azPE8kHYq5f",
        "outputId": "024097b1-d13a-43c5-c767-51760d17713e"
      },
      "source": [
        "assault['IS_TRAFFIC'].sort_values().unique()"
      ],
      "execution_count": null,
      "outputs": [
        {
          "output_type": "execute_result",
          "data": {
            "text/plain": [
              "array([0])"
            ]
          },
          "metadata": {},
          "execution_count": 7
        }
      ]
    },
    {
      "cell_type": "code",
      "metadata": {
        "colab": {
          "base_uri": "https://localhost:8080/"
        },
        "id": "aRIPBJuyaAZL",
        "outputId": "88548fb7-4acd-4bd5-9ac0-7b9489970168"
      },
      "source": [
        "assault.shape"
      ],
      "execution_count": null,
      "outputs": [
        {
          "output_type": "execute_result",
          "data": {
            "text/plain": [
              "(38212, 19)"
            ]
          },
          "metadata": {},
          "execution_count": 8
        }
      ]
    },
    {
      "cell_type": "code",
      "metadata": {
        "id": "wAPhRomUa0Y1",
        "colab": {
          "base_uri": "https://localhost:8080/"
        },
        "outputId": "2b40d3d0-718d-49d0-fb05-8e59d0f99844"
      },
      "source": [
        "assault.dtypes"
      ],
      "execution_count": null,
      "outputs": [
        {
          "output_type": "execute_result",
          "data": {
            "text/plain": [
              "INCIDENT_ID                 int64\n",
              "OFFENSE_ID                  int64\n",
              "OFFENSE_CODE                int64\n",
              "OFFENSE_CODE_EXTENSION      int64\n",
              "OFFENSE_TYPE_ID            object\n",
              "OFFENSE_CATEGORY_ID        object\n",
              "FIRST_OCCURRENCE_DATE      object\n",
              "LAST_OCCURRENCE_DATE       object\n",
              "REPORTED_DATE              object\n",
              "INCIDENT_ADDRESS           object\n",
              "GEO_X                     float64\n",
              "GEO_Y                     float64\n",
              "GEO_LON                   float64\n",
              "GEO_LAT                   float64\n",
              "DISTRICT_ID               float64\n",
              "PRECINCT_ID               float64\n",
              "NEIGHBORHOOD_ID            object\n",
              "IS_CRIME                    int64\n",
              "IS_TRAFFIC                  int64\n",
              "dtype: object"
            ]
          },
          "metadata": {},
          "execution_count": 9
        }
      ]
    },
    {
      "cell_type": "code",
      "metadata": {
        "id": "VYimRV9vggTR"
      },
      "source": [
        "df_assault = assault.drop(columns= ['GEO_X', 'GEO_Y', 'GEO_LON', 'GEO_LAT', 'INCIDENT_ADDRESS', 'IS_CRIME', 'IS_TRAFFIC'])"
      ],
      "execution_count": null,
      "outputs": []
    },
    {
      "cell_type": "code",
      "metadata": {
        "colab": {
          "base_uri": "https://localhost:8080/"
        },
        "id": "vPscg3FAj_wA",
        "outputId": "af35b58d-27df-4057-ca3a-20841a68c2ac"
      },
      "source": [
        "df_assault.dtypes"
      ],
      "execution_count": null,
      "outputs": [
        {
          "output_type": "execute_result",
          "data": {
            "text/plain": [
              "INCIDENT_ID                 int64\n",
              "OFFENSE_ID                  int64\n",
              "OFFENSE_CODE                int64\n",
              "OFFENSE_CODE_EXTENSION      int64\n",
              "OFFENSE_TYPE_ID            object\n",
              "OFFENSE_CATEGORY_ID        object\n",
              "FIRST_OCCURRENCE_DATE      object\n",
              "LAST_OCCURRENCE_DATE       object\n",
              "REPORTED_DATE              object\n",
              "DISTRICT_ID               float64\n",
              "PRECINCT_ID               float64\n",
              "NEIGHBORHOOD_ID            object\n",
              "dtype: object"
            ]
          },
          "metadata": {},
          "execution_count": 11
        }
      ]
    },
    {
      "cell_type": "markdown",
      "metadata": {
        "id": "f68B_3r4P9Vp"
      },
      "source": [
        "# Feature Engineering\n",
        "\n",
        "\n",
        "\n",
        "1.   Occurrence and reporting data converted to datetime\n",
        "2.   Those datetimes use to create a timedelta of reporting delay\n",
        "3. Timedelta converted to minutes as a float\n",
        "4. Month, hour, and day of the week for each occurrence extracted into separate columns as int64.\n",
        "\n"
      ]
    },
    {
      "cell_type": "code",
      "metadata": {
        "id": "bq1wa6xClTCI"
      },
      "source": [
        "df_assault['FIRST_OCCURRENCE_DATE'] = pd.to_datetime(df_assault['FIRST_OCCURRENCE_DATE'])\n",
        "df_assault['LAST_OCCURRENCE_DATE'] = pd.to_datetime(df_assault['LAST_OCCURRENCE_DATE'])\n",
        "df_assault['REPORTED_DATE'] = pd.to_datetime(df_assault['REPORTED_DATE'])\n",
        "df_assault['REPORTING_DELAY'] = (df_assault['REPORTED_DATE'] - df_assault['FIRST_OCCURRENCE_DATE'])\n",
        "df_assault['REPORTING_DELAY'] = df_assault['REPORTING_DELAY'].dt.seconds/60\n",
        "df_assault['OCCURENCE_MONTH'] = pd.DatetimeIndex(df_assault['FIRST_OCCURRENCE_DATE']).month\n",
        "df_assault['OCCURENCE_HOUR'] = pd.DatetimeIndex(df_assault['FIRST_OCCURRENCE_DATE']).hour\n",
        "df_assault['OCCURENCE_WEEKDAY'] = pd.DatetimeIndex(df_assault['FIRST_OCCURRENCE_DATE']).weekday\n"
      ],
      "execution_count": null,
      "outputs": []
    },
    {
      "cell_type": "markdown",
      "metadata": {
        "id": "77v6o2I7Q8Kz"
      },
      "source": [
        "# Experiment #1 - Reporting Delay by Precinct\n",
        "\n",
        "In this experiment I'm performing a one way Anova test to attempt to disprove than null hypothesis that there is no difference in the means of the reporting delay of assaults by precinct."
      ]
    },
    {
      "cell_type": "code",
      "metadata": {
        "colab": {
          "base_uri": "https://localhost:8080/"
        },
        "id": "Y7NduPzG3xTb",
        "outputId": "f53c6d05-3fd2-4f56-a74a-ce58a8c86b4d"
      },
      "source": [
        "## https://www.denvergov.org/content/dam/denvergov/Portals/720/documents/maps/Citywide_Map.pdf\n",
        "df_assault['PRECINCT_ID'].sort_values().unique()"
      ],
      "execution_count": null,
      "outputs": [
        {
          "output_type": "execute_result",
          "data": {
            "text/plain": [
              "array([111., 112., 113., 121., 122., 123., 211., 212., 213., 221., 222.,\n",
              "       223., 311., 312., 313., 314., 321., 322., 323., 324., 411., 412.,\n",
              "       421., 422., 423., 511., 512., 521., 522., 523., 611., 612., 621.,\n",
              "       622., 623., 759.])"
            ]
          },
          "metadata": {},
          "execution_count": 13
        }
      ]
    },
    {
      "cell_type": "code",
      "metadata": {
        "id": "0LIr8Zhz7mkZ"
      },
      "source": [
        "assault_111 = df_assault.loc[df_assault['PRECINCT_ID'] == 111]\n",
        "assault_112 = df_assault.loc[df_assault['PRECINCT_ID'] == 112]\n",
        "assault_113 = df_assault.loc[df_assault['PRECINCT_ID'] == 113]\n",
        "assault_121 = df_assault.loc[df_assault['PRECINCT_ID'] == 121]\n",
        "assault_122 = df_assault.loc[df_assault['PRECINCT_ID'] == 122]\n",
        "assault_123 = df_assault.loc[df_assault['PRECINCT_ID'] == 123]\n",
        "assault_211 = df_assault.loc[df_assault['PRECINCT_ID'] == 211]\n",
        "assault_212 = df_assault.loc[df_assault['PRECINCT_ID'] == 212]\n",
        "assault_213 = df_assault.loc[df_assault['PRECINCT_ID'] == 213]\n",
        "assault_221 = df_assault.loc[df_assault['PRECINCT_ID'] == 221]\n",
        "assault_222 = df_assault.loc[df_assault['PRECINCT_ID'] == 222]\n",
        "assault_223 = df_assault.loc[df_assault['PRECINCT_ID'] == 223]\n",
        "assault_311 = df_assault.loc[df_assault['PRECINCT_ID'] == 311]\n",
        "assault_312 = df_assault.loc[df_assault['PRECINCT_ID'] == 312]\n",
        "assault_313 = df_assault.loc[df_assault['PRECINCT_ID'] == 313]\n",
        "assault_314 = df_assault.loc[df_assault['PRECINCT_ID'] == 314]\n",
        "assault_321 = df_assault.loc[df_assault['PRECINCT_ID'] == 321]\n",
        "assault_322 = df_assault.loc[df_assault['PRECINCT_ID'] == 322]\n",
        "assault_323 = df_assault.loc[df_assault['PRECINCT_ID'] == 323]\n",
        "assault_324 = df_assault.loc[df_assault['PRECINCT_ID'] == 324]\n",
        "assault_411 = df_assault.loc[df_assault['PRECINCT_ID'] == 411]\n",
        "assault_412 = df_assault.loc[df_assault['PRECINCT_ID'] == 412]\n",
        "assault_413 = df_assault.loc[df_assault['PRECINCT_ID'] == 413]\n",
        "assault_421 = df_assault.loc[df_assault['PRECINCT_ID'] == 421]\n",
        "assault_422 = df_assault.loc[df_assault['PRECINCT_ID'] == 422]\n",
        "assault_423 = df_assault.loc[df_assault['PRECINCT_ID'] == 423]\n",
        "assault_511 = df_assault.loc[df_assault['PRECINCT_ID'] == 511]\n",
        "assault_512 = df_assault.loc[df_assault['PRECINCT_ID'] == 512]\n",
        "assault_513 = df_assault.loc[df_assault['PRECINCT_ID'] == 513]\n",
        "assault_611 = df_assault.loc[df_assault['PRECINCT_ID'] == 611]\n",
        "assault_612 = df_assault.loc[df_assault['PRECINCT_ID'] == 612]\n",
        "assault_621 = df_assault.loc[df_assault['PRECINCT_ID'] == 621]\n",
        "assault_622 = df_assault.loc[df_assault['PRECINCT_ID'] == 622]\n",
        "assault_623 = df_assault.loc[df_assault['PRECINCT_ID'] == 623]\n",
        "assault_759 = df_assault.loc[df_assault['PRECINCT_ID'] == 759]\n"
      ],
      "execution_count": null,
      "outputs": []
    },
    {
      "cell_type": "markdown",
      "metadata": {
        "id": "-367cl8fMqNE"
      },
      "source": [
        "# Test Result #1 - Reporting Delay by Precinct#\n",
        "\n",
        "The incredibly low p-value disproves the null hypothesis and confirms the alternative hypothesis that there is a statistically significant difference in the delay between an assault accuring and the assault being reported between precincts. We'll be returning to this now established fact later in the analysis. "
      ]
    },
    {
      "cell_type": "code",
      "metadata": {
        "id": "yIwuK35p721u",
        "colab": {
          "base_uri": "https://localhost:8080/"
        },
        "outputId": "0f89ebf0-901d-42c7-dac6-d908263053b1"
      },
      "source": [
        "# removed 413, 513\n",
        "stats.f_oneway(assault_111['REPORTING_DELAY'], assault_112['REPORTING_DELAY'], assault_113['REPORTING_DELAY'], \n",
        "               assault_121['REPORTING_DELAY'], assault_122['REPORTING_DELAY'], assault_123['REPORTING_DELAY'], \n",
        "               assault_211['REPORTING_DELAY'], assault_212['REPORTING_DELAY'], assault_213['REPORTING_DELAY'],\n",
        "               assault_221['REPORTING_DELAY'], assault_222['REPORTING_DELAY'], assault_223['REPORTING_DELAY'],\n",
        "               assault_311['REPORTING_DELAY'], assault_312['REPORTING_DELAY'], assault_313['REPORTING_DELAY'], assault_314['REPORTING_DELAY'],\n",
        "               assault_321['REPORTING_DELAY'], assault_322['REPORTING_DELAY'], assault_323['REPORTING_DELAY'], assault_324['REPORTING_DELAY'],\n",
        "               assault_411['REPORTING_DELAY'], assault_412['REPORTING_DELAY'], assault_421['REPORTING_DELAY'], assault_422['REPORTING_DELAY'], assault_423['REPORTING_DELAY'],\n",
        "               assault_511['REPORTING_DELAY'], assault_512['REPORTING_DELAY'],\n",
        "               assault_611['REPORTING_DELAY'], assault_612['REPORTING_DELAY'],\n",
        "               assault_621['REPORTING_DELAY'], assault_622['REPORTING_DELAY'], assault_623['REPORTING_DELAY'],\n",
        "               assault_759['REPORTING_DELAY'])"
      ],
      "execution_count": null,
      "outputs": [
        {
          "output_type": "execute_result",
          "data": {
            "text/plain": [
              "F_onewayResult(statistic=3.754519803391779, pvalue=4.182304157441347e-12)"
            ]
          },
          "metadata": {},
          "execution_count": 15
        }
      ]
    },
    {
      "cell_type": "code",
      "metadata": {
        "id": "8ozspxr-9HpT"
      },
      "source": [
        ""
      ],
      "execution_count": null,
      "outputs": []
    },
    {
      "cell_type": "markdown",
      "metadata": {
        "id": "Fr6xuw94S0fh"
      },
      "source": [
        "# Experiment #2 - Reporting Delay by Month\n",
        "\n",
        "In this experiment I'm performing a one way Anova test to attempt to disprove than null hypothesis that there is no difference in the means of the reporting delay of assaults by month of the year.\n",
        "\n",
        "\n"
      ]
    },
    {
      "cell_type": "code",
      "metadata": {
        "id": "GPgedLo2suyf"
      },
      "source": [
        "month01 = df_assault.loc[df_assault['OCCURENCE_MONTH'] == 1]\n",
        "month02 = df_assault.loc[df_assault['OCCURENCE_MONTH'] == 2]\n",
        "month03 = df_assault.loc[df_assault['OCCURENCE_MONTH'] == 3]\n",
        "month04 = df_assault.loc[df_assault['OCCURENCE_MONTH'] == 4]\n",
        "month05 = df_assault.loc[df_assault['OCCURENCE_MONTH'] == 5]\n",
        "month06 = df_assault.loc[df_assault['OCCURENCE_MONTH'] == 6]\n",
        "month07 = df_assault.loc[df_assault['OCCURENCE_MONTH'] == 7]\n",
        "month08 = df_assault.loc[df_assault['OCCURENCE_MONTH'] == 8]\n",
        "month09 = df_assault.loc[df_assault['OCCURENCE_MONTH'] == 9]\n",
        "month10 = df_assault.loc[df_assault['OCCURENCE_MONTH'] == 10]\n",
        "month11 = df_assault.loc[df_assault['OCCURENCE_MONTH'] == 11]\n",
        "month12 = df_assault.loc[df_assault['OCCURENCE_MONTH'] == 12]\n",
        "\n"
      ],
      "execution_count": null,
      "outputs": []
    },
    {
      "cell_type": "markdown",
      "metadata": {
        "id": "mOwBTwR2WfdD"
      },
      "source": [
        "# Test Result #2 - Reporting Delay by Month of Year#\n",
        "\n",
        "With a pvalue of nearly .07, the null hypothsis is confirmed. Month of the Year does not appear to have a statistically significant effect on reporting delay of assaults."
      ]
    },
    {
      "cell_type": "code",
      "metadata": {
        "colab": {
          "base_uri": "https://localhost:8080/"
        },
        "id": "qmpV4YXeVlcO",
        "outputId": "875e2712-36fe-4ec9-9b61-65cd4734769d"
      },
      "source": [
        "stats.f_oneway(month01['REPORTING_DELAY'],\n",
        "               month02['REPORTING_DELAY'],\n",
        "               month03['REPORTING_DELAY'],\n",
        "               month04['REPORTING_DELAY'],\n",
        "               month05['REPORTING_DELAY'],\n",
        "               month06['REPORTING_DELAY'],\n",
        "               month07['REPORTING_DELAY'],\n",
        "               month08['REPORTING_DELAY'],\n",
        "               month09['REPORTING_DELAY'],\n",
        "               month10['REPORTING_DELAY'],\n",
        "               month11['REPORTING_DELAY'],\n",
        "               month12['REPORTING_DELAY'])"
      ],
      "execution_count": null,
      "outputs": [
        {
          "output_type": "execute_result",
          "data": {
            "text/plain": [
              "F_onewayResult(statistic=1.6946065077974062, pvalue=0.06790286348414207)"
            ]
          },
          "metadata": {},
          "execution_count": 17
        }
      ]
    },
    {
      "cell_type": "markdown",
      "metadata": {
        "id": "6SY1EGKJTCZI"
      },
      "source": [
        "# Experiment #3 - Reporting Delay by Time of Day\n",
        "\n",
        "In this experiment I'm performing a one way Anova test to attempt to disprove than null hypothesis that there is no difference in the means of the reporting delay of assaults by by time of day.\n",
        "\n",
        "Deciding on specific groupings here presents something of a challenge. Measuring for each of the 24 hours of the day may result in groups so small or uneven that analysis becomes less reliable. Other methods of dividing the day such \"morning\", \"afternoon\", etc do not have precise, agreed upon definitions. \n",
        "\n",
        "I next considered group time by Police shifts, however because the Denver PD utilizes 10 hour shifts, these don't match up to the actual hours of the day and for obvious security and practical reasons the details of the shifts are not part of publicly available data.\n",
        "\n",
        "In the end, I decided dividing the day into 3 hour octiles. Allowing the data sets to both contain enough individual points of data for analysis while still being narrow enough to be meaningful groupings."
      ]
    },
    {
      "cell_type": "code",
      "metadata": {
        "id": "w68TEyh2s-zm"
      },
      "source": [
        "octile1 = df_assault.loc[(df_assault['OCCURENCE_HOUR'] >= 0) & (df_assault['OCCURENCE_HOUR'] <= 2)]\n",
        "octile2 = df_assault.loc[(df_assault['OCCURENCE_HOUR'] >= 3) & (df_assault['OCCURENCE_HOUR'] <= 5)]\n",
        "octile3 = df_assault.loc[(df_assault['OCCURENCE_HOUR'] >= 6) & (df_assault['OCCURENCE_HOUR'] <= 8)]\n",
        "octile4 = df_assault.loc[(df_assault['OCCURENCE_HOUR'] >= 9) & (df_assault['OCCURENCE_HOUR'] <= 11)]\n",
        "octile5 = df_assault.loc[(df_assault['OCCURENCE_HOUR'] >= 12) & (df_assault['OCCURENCE_HOUR'] <= 14)]\n",
        "octile6 = df_assault.loc[(df_assault['OCCURENCE_HOUR'] >= 15) & (df_assault['OCCURENCE_HOUR'] <= 17)]\n",
        "octile7 = df_assault.loc[(df_assault['OCCURENCE_HOUR'] >= 18) & (df_assault['OCCURENCE_HOUR'] <= 20)]\n",
        "octile8 = df_assault.loc[(df_assault['OCCURENCE_HOUR'] >= 21) & (df_assault['OCCURENCE_HOUR'] <= 22)]"
      ],
      "execution_count": null,
      "outputs": []
    },
    {
      "cell_type": "markdown",
      "metadata": {
        "id": "O_6sXyA1sXOf"
      },
      "source": [
        "# Test Result #3- Reporting Delay by Time of Day#\n",
        "\n",
        "The incredibly low p-value disproves the null hypothesis and confirms the alternative hypothesis that there is a statistically significant difference in the delay between an assault accuring and the assault being reported between different times of day. This is now a second confirmed factor we'll be returning to in our analysis."
      ]
    },
    {
      "cell_type": "code",
      "metadata": {
        "colab": {
          "base_uri": "https://localhost:8080/"
        },
        "id": "HpzLKyBjbgBB",
        "outputId": "68ca0e34-f55e-4850-c87f-9e684482ccab"
      },
      "source": [
        "stats.f_oneway(octile1['REPORTING_DELAY'],\n",
        "               octile2['REPORTING_DELAY'],\n",
        "               octile3['REPORTING_DELAY'],\n",
        "               octile4['REPORTING_DELAY'],\n",
        "               octile5['REPORTING_DELAY'],\n",
        "               octile6['REPORTING_DELAY'],\n",
        "               octile7['REPORTING_DELAY'],\n",
        "               octile8['REPORTING_DELAY'])"
      ],
      "execution_count": null,
      "outputs": [
        {
          "output_type": "execute_result",
          "data": {
            "text/plain": [
              "F_onewayResult(statistic=9.748696496500864, pvalue=3.441285207024019e-12)"
            ]
          },
          "metadata": {},
          "execution_count": 19
        }
      ]
    },
    {
      "cell_type": "markdown",
      "metadata": {
        "id": "YhcElj-6TWOi"
      },
      "source": [
        "# Experiment #4 - Reporting Delay by Day of Week\n",
        "\n",
        "In this experiment I'm performing a one way Anova test to attempt to disprove than null hypothesis that there is no difference in the means of the reporting delay of assaults by day of the week."
      ]
    },
    {
      "cell_type": "code",
      "metadata": {
        "id": "_WXrT32ctDgu"
      },
      "source": [
        "weekday00 = df_assault.loc[df_assault['OCCURENCE_WEEKDAY'] == 0]\n",
        "weekday01 = df_assault.loc[df_assault['OCCURENCE_WEEKDAY'] == 1]\n",
        "weekday02 = df_assault.loc[df_assault['OCCURENCE_WEEKDAY'] == 2]\n",
        "weekday03 = df_assault.loc[df_assault['OCCURENCE_WEEKDAY'] == 3]\n",
        "weekday04 = df_assault.loc[df_assault['OCCURENCE_WEEKDAY'] == 4]\n",
        "weekday05 = df_assault.loc[df_assault['OCCURENCE_WEEKDAY'] == 5]\n",
        "weekday06 = df_assault.loc[df_assault['OCCURENCE_WEEKDAY'] == 6]\n"
      ],
      "execution_count": null,
      "outputs": []
    },
    {
      "cell_type": "markdown",
      "metadata": {
        "id": "R27hqesavIdA"
      },
      "source": [
        "# Test Result #4- Reporting Delay by Day of Week#\n",
        "\n",
        "The p-value of .03 is below our .05 threshhold disproves the null hypothesis and confirms the alternative hypothesis that there is a statistically significant difference in the delay between an assault accuring and the assault being reported between different days of the week. This is now a third and final confirmed factor we'll be returning to in our analysis."
      ]
    },
    {
      "cell_type": "code",
      "metadata": {
        "colab": {
          "base_uri": "https://localhost:8080/"
        },
        "id": "rHi_aCEdcTpx",
        "outputId": "be1b8c73-9e78-407a-816e-193395a743d7"
      },
      "source": [
        "stats.f_oneway(weekday00['REPORTING_DELAY'],\n",
        "               weekday01['REPORTING_DELAY'],\n",
        "               weekday02['REPORTING_DELAY'],\n",
        "               weekday03['REPORTING_DELAY'],\n",
        "               weekday04['REPORTING_DELAY'],\n",
        "               weekday05['REPORTING_DELAY'],\n",
        "               weekday06['REPORTING_DELAY'])"
      ],
      "execution_count": null,
      "outputs": [
        {
          "output_type": "execute_result",
          "data": {
            "text/plain": [
              "F_onewayResult(statistic=2.3734160864021603, pvalue=0.027081630283034324)"
            ]
          },
          "metadata": {},
          "execution_count": 21
        }
      ]
    },
    {
      "cell_type": "markdown",
      "metadata": {
        "id": "LNop2u1BFoLQ"
      },
      "source": [
        "#Visualizations"
      ]
    },
    {
      "cell_type": "markdown",
      "metadata": {
        "id": "T4aNUCwld_hu"
      },
      "source": [
        "##Reporting Delay by Weekday\n",
        "\n",
        "While we're able to see that there is a statistically significant difference by the day of the week, the next two charts will show why I have ultimately set this difference aside and chosen to focus on time of day and precinct as more important indicators for making solid reccomendations.\n",
        "\n",
        "\n"
      ]
    },
    {
      "cell_type": "code",
      "metadata": {
        "id": "80cVHYhbFq02",
        "colab": {
          "base_uri": "https://localhost:8080/",
          "height": 515
        },
        "outputId": "8f95be62-737f-49bb-c4ea-313fc1d672a0"
      },
      "source": [
        "plt.figure(figsize=(10, 8))\n",
        "#sns.lineplot(x='OCCURENCE_WEEKDAY', y='REPORTING_DELAY', data=df_assault)\n",
        "sns.boxplot(x='OCCURENCE_WEEKDAY', y='REPORTING_DELAY', data=df_assault, showfliers = False)"
      ],
      "execution_count": null,
      "outputs": [
        {
          "output_type": "execute_result",
          "data": {
            "text/plain": [
              "<matplotlib.axes._subplots.AxesSubplot at 0x7f72a996d9d0>"
            ]
          },
          "metadata": {},
          "execution_count": 22
        },
        {
          "output_type": "display_data",
          "data": {
            "image/png": "[encoded data removed]",
            "text/plain": [
              "<Figure size 720x576 with 1 Axes>"
            ]
          },
          "metadata": {
            "needs_background": "light"
          }
        }
      ]
    },
    {
      "cell_type": "markdown",
      "metadata": {
        "id": "9MRm1EgwhU3V"
      },
      "source": [
        "##Reporting Delay by Hour of Day\n",
        "\n",
        "Here we start to find some more interesting and unexpected patterns. I would intuitively have expected the delay to be the greatest during the overnight night, but what actually emerges here is completely different:\n",
        "\n",
        "\n",
        "1.   The greatest delay appears to be centered around the morning commute hours. With the increase beginning during the 5:00 hour and peaking during the 8:00 hour.\n",
        "2.   The two other most significant jumps occur at midnight and at noon.\n",
        "\n"
      ]
    },
    {
      "cell_type": "code",
      "metadata": {
        "colab": {
          "base_uri": "https://localhost:8080/",
          "height": 515
        },
        "id": "1o0HnKozstOM",
        "outputId": "3800b94c-983d-4eb9-bfae-0dd8d8f15c70"
      },
      "source": [
        "plt.figure(figsize=(10, 8))\n",
        "#sns.lineplot(x='OCCURENCE_HOUR', y='REPORTING_DELAY', data=df_assault)\n",
        "sns.boxplot(x='OCCURENCE_HOUR', y='REPORTING_DELAY', data=df_assault, showfliers = False)"
      ],
      "execution_count": null,
      "outputs": [
        {
          "output_type": "execute_result",
          "data": {
            "text/plain": [
              "<matplotlib.axes._subplots.AxesSubplot at 0x7f72a981c290>"
            ]
          },
          "metadata": {},
          "execution_count": 23
        },
        {
          "output_type": "display_data",
          "data": {
            "image/png": "[encoded data removed]",
            "text/plain": [
              "<Figure size 720x576 with 1 Axes>"
            ]
          },
          "metadata": {
            "needs_background": "light"
          }
        }
      ]
    },
    {
      "cell_type": "markdown",
      "metadata": {
        "id": "wbMeViSNiafE"
      },
      "source": [
        "##Reporting Delay by Precinct\n",
        "\n",
        "We can see here some pretty clear differences by precinct. Given the complexity and number of factors that could go into this, I chose to focus in the single precinct with the greatest mean, deviation, and range: Precinct 512\n"
      ]
    },
    {
      "cell_type": "code",
      "metadata": {
        "colab": {
          "base_uri": "https://localhost:8080/",
          "height": 1000
        },
        "id": "YLTw6FePtFGE",
        "outputId": "4fc3f652-334f-45c6-d39b-448610ca357a"
      },
      "source": [
        "plt.figure(figsize=(20, 20))\n",
        "sns.boxplot(x='PRECINCT_ID', y='REPORTING_DELAY', data=df_assault, showfliers = False)"
      ],
      "execution_count": null,
      "outputs": [
        {
          "output_type": "execute_result",
          "data": {
            "text/plain": [
              "<matplotlib.axes._subplots.AxesSubplot at 0x7f72a9146550>"
            ]
          },
          "metadata": {},
          "execution_count": 24
        },
        {
          "output_type": "display_data",
          "data": {
            "image/png": "[encoded data removed]",
            "text/plain": [
              "<Figure size 1440x1440 with 1 Axes>"
            ]
          },
          "metadata": {
            "needs_background": "light"
          }
        }
      ]
    },
    {
      "cell_type": "markdown",
      "metadata": {
        "id": "_Wpfl_fpjJIX"
      },
      "source": [
        "###Reporting Delay in Precinct 512 by Neighborhood\n",
        "\n",
        "And here we're able to see that the reporting delays within the 512 are even more specifically related to crime within Central Park."
      ]
    },
    {
      "cell_type": "code",
      "metadata": {
        "colab": {
          "base_uri": "https://localhost:8080/",
          "height": 1000
        },
        "id": "zlL-yph2tfma",
        "outputId": "45cc953c-be6f-42a1-8608-cb59e2f9e7c5"
      },
      "source": [
        "plt.figure(figsize=(20, 20))\n",
        "sns.boxplot(x='NEIGHBORHOOD_ID', y='REPORTING_DELAY', data=assault_512, showfliers = False)"
      ],
      "execution_count": null,
      "outputs": [
        {
          "output_type": "execute_result",
          "data": {
            "text/plain": [
              "<matplotlib.axes._subplots.AxesSubplot at 0x7f72a912ec50>"
            ]
          },
          "metadata": {},
          "execution_count": 25
        },
        {
          "output_type": "display_data",
          "data": {
            "image/png": "[encoded data removed]",
            "text/plain": [
              "<Figure size 1440x1440 with 1 Axes>"
            ]
          },
          "metadata": {
            "needs_background": "light"
          }
        }
      ]
    },
    {
      "cell_type": "markdown",
      "metadata": {
        "id": "l0amnuyC3w5A"
      },
      "source": [
        "# Recomendations\n",
        "\n",
        "**Increase patrolling of Central Park.** \n",
        "\n",
        "> While in the longer term it may be more cost effective to increase electronic surveilance, add callboxes to rapidly connect to police or other hardware to the park, their funding and implementation will take some time whereas increased patrols can be implemented immediately and their effect rapidly measured.\n",
        "\n",
        "\n",
        "**Begin logging total time spent dealing with minor traffic accidents.** \n",
        "\n",
        "> Specifically accidents where no party needs to be transported by ambulance and no car must be towed from the scene. The hours of the morning commute represent the single biggest, sustained spike in increased reporting times for violent crime. Increased traffic will represent at least some portion of this delay, however it needs to be considered additionally how much manpower is taken up during these hours dealing with the reporting and paperwork involved in minor traffic accidents. \n",
        "\n",
        "> If the time proves to be large enough during these hours, a change in how these sorts of accidents are handled needs to be considered. Increasingly, for example, insurance companies utilize apps where their customer simply photographs the damage to their car for making claims. An app could be developed that allows the people in the accident to both submit photos, scan their drivers licenses, and share insurance information without any officer having to be present.   \n"
      ]
    }
  ]
}